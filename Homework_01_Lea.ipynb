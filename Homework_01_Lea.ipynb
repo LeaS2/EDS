{
 "cells": [
  {
   "cell_type": "code",
   "execution_count": 3,
   "metadata": {},
   "outputs": [],
   "source": [
    "import numpy as np\n",
    "import matplotlib.pyplot as plt\n",
    "import soundfile as sf\n",
    "import pyfar as pf\n",
    "from scipy.io import wavfile"
   ]
  },
  {
   "cell_type": "code",
   "execution_count": 4,
   "metadata": {},
   "outputs": [
    {
     "ename": "LibsndfileError",
     "evalue": "Error opening './speech.wav': System error.",
     "output_type": "error",
     "traceback": [
      "\u001b[0;31m---------------------------------------------------------------------------\u001b[0m",
      "\u001b[0;31mLibsndfileError\u001b[0m                           Traceback (most recent call last)",
      "\u001b[1;32m/Users/leaschwalb/Documents/UNI/TU_Master/EDS/VirtEnv_EDS/Hausaufgaben/my_take.ipynb Cell 2\u001b[0m line \u001b[0;36m2\n\u001b[1;32m      <a href='vscode-notebook-cell:/Users/leaschwalb/Documents/UNI/TU_Master/EDS/VirtEnv_EDS/Hausaufgaben/my_take.ipynb#W1sZmlsZQ%3D%3D?line=0'>1</a>\u001b[0m \u001b[39m# Readind and storing signal and sample rate\u001b[39;00m\n\u001b[0;32m----> <a href='vscode-notebook-cell:/Users/leaschwalb/Documents/UNI/TU_Master/EDS/VirtEnv_EDS/Hausaufgaben/my_take.ipynb#W1sZmlsZQ%3D%3D?line=1'>2</a>\u001b[0m data_1 \u001b[39m=\u001b[39m pf\u001b[39m.\u001b[39;49mio\u001b[39m.\u001b[39;49mread_audio(\u001b[39m'\u001b[39;49m\u001b[39m./speech.wav\u001b[39;49m\u001b[39m'\u001b[39;49m)\n\u001b[1;32m      <a href='vscode-notebook-cell:/Users/leaschwalb/Documents/UNI/TU_Master/EDS/VirtEnv_EDS/Hausaufgaben/my_take.ipynb#W1sZmlsZQ%3D%3D?line=2'>3</a>\u001b[0m data_2 \u001b[39m=\u001b[39m pf\u001b[39m.\u001b[39mio\u001b[39m.\u001b[39mread_audio(\u001b[39m'\u001b[39m\u001b[39m./impulse_response.wav\u001b[39m\u001b[39m'\u001b[39m)\n\u001b[1;32m      <a href='vscode-notebook-cell:/Users/leaschwalb/Documents/UNI/TU_Master/EDS/VirtEnv_EDS/Hausaufgaben/my_take.ipynb#W1sZmlsZQ%3D%3D?line=4'>5</a>\u001b[0m \u001b[39mprint\u001b[39m(\u001b[39m\"\u001b[39m\u001b[39mnumber of channels: \u001b[39m\u001b[39m\"\u001b[39m, data_1\u001b[39m.\u001b[39mcshape)\n",
      "File \u001b[0;32m~/Documents/UNI/TU_Master/EDS/VirtEnv_EDS/.conda/lib/python3.10/site-packages/pyfar/io/io.py:388\u001b[0m, in \u001b[0;36mread_audio\u001b[0;34m(filename, dtype, **kwargs)\u001b[0m\n\u001b[1;32m    385\u001b[0m     warnings\u001b[39m.\u001b[39mwarn(soundfile_warning)\n\u001b[1;32m    386\u001b[0m     \u001b[39mreturn\u001b[39;00m\n\u001b[0;32m--> 388\u001b[0m data, sampling_rate \u001b[39m=\u001b[39m soundfile\u001b[39m.\u001b[39;49mread(\n\u001b[1;32m    389\u001b[0m     file\u001b[39m=\u001b[39;49mfilename, dtype\u001b[39m=\u001b[39;49mdtype, always_2d\u001b[39m=\u001b[39;49m\u001b[39mTrue\u001b[39;49;00m, \u001b[39m*\u001b[39;49m\u001b[39m*\u001b[39;49mkwargs)\n\u001b[1;32m    391\u001b[0m \u001b[39mreturn\u001b[39;00m Signal(data\u001b[39m.\u001b[39mT, sampling_rate, domain\u001b[39m=\u001b[39m\u001b[39m'\u001b[39m\u001b[39mtime\u001b[39m\u001b[39m'\u001b[39m)\n",
      "File \u001b[0;32m~/Documents/UNI/TU_Master/EDS/VirtEnv_EDS/.conda/lib/python3.10/site-packages/soundfile.py:285\u001b[0m, in \u001b[0;36mread\u001b[0;34m(file, frames, start, stop, dtype, always_2d, fill_value, out, samplerate, channels, format, subtype, endian, closefd)\u001b[0m\n\u001b[1;32m    199\u001b[0m \u001b[39mdef\u001b[39;00m \u001b[39mread\u001b[39m(file, frames\u001b[39m=\u001b[39m\u001b[39m-\u001b[39m\u001b[39m1\u001b[39m, start\u001b[39m=\u001b[39m\u001b[39m0\u001b[39m, stop\u001b[39m=\u001b[39m\u001b[39mNone\u001b[39;00m, dtype\u001b[39m=\u001b[39m\u001b[39m'\u001b[39m\u001b[39mfloat64\u001b[39m\u001b[39m'\u001b[39m, always_2d\u001b[39m=\u001b[39m\u001b[39mFalse\u001b[39;00m,\n\u001b[1;32m    200\u001b[0m          fill_value\u001b[39m=\u001b[39m\u001b[39mNone\u001b[39;00m, out\u001b[39m=\u001b[39m\u001b[39mNone\u001b[39;00m, samplerate\u001b[39m=\u001b[39m\u001b[39mNone\u001b[39;00m, channels\u001b[39m=\u001b[39m\u001b[39mNone\u001b[39;00m,\n\u001b[1;32m    201\u001b[0m          \u001b[39mformat\u001b[39m\u001b[39m=\u001b[39m\u001b[39mNone\u001b[39;00m, subtype\u001b[39m=\u001b[39m\u001b[39mNone\u001b[39;00m, endian\u001b[39m=\u001b[39m\u001b[39mNone\u001b[39;00m, closefd\u001b[39m=\u001b[39m\u001b[39mTrue\u001b[39;00m):\n\u001b[1;32m    202\u001b[0m \u001b[39m    \u001b[39m\u001b[39m\"\"\"Provide audio data from a sound file as NumPy array.\u001b[39;00m\n\u001b[1;32m    203\u001b[0m \n\u001b[1;32m    204\u001b[0m \u001b[39m    By default, the whole file is read from the beginning, but the\u001b[39;00m\n\u001b[0;32m   (...)\u001b[0m\n\u001b[1;32m    283\u001b[0m \n\u001b[1;32m    284\u001b[0m \u001b[39m    \"\"\"\u001b[39;00m\n\u001b[0;32m--> 285\u001b[0m     \u001b[39mwith\u001b[39;00m SoundFile(file, \u001b[39m'\u001b[39;49m\u001b[39mr\u001b[39;49m\u001b[39m'\u001b[39;49m, samplerate, channels,\n\u001b[1;32m    286\u001b[0m                    subtype, endian, \u001b[39mformat\u001b[39;49m, closefd) \u001b[39mas\u001b[39;00m f:\n\u001b[1;32m    287\u001b[0m         frames \u001b[39m=\u001b[39m f\u001b[39m.\u001b[39m_prepare_read(start, stop, frames)\n\u001b[1;32m    288\u001b[0m         data \u001b[39m=\u001b[39m f\u001b[39m.\u001b[39mread(frames, dtype, always_2d, fill_value, out)\n",
      "File \u001b[0;32m~/Documents/UNI/TU_Master/EDS/VirtEnv_EDS/.conda/lib/python3.10/site-packages/soundfile.py:658\u001b[0m, in \u001b[0;36mSoundFile.__init__\u001b[0;34m(self, file, mode, samplerate, channels, subtype, endian, format, closefd)\u001b[0m\n\u001b[1;32m    655\u001b[0m \u001b[39mself\u001b[39m\u001b[39m.\u001b[39m_mode \u001b[39m=\u001b[39m mode\n\u001b[1;32m    656\u001b[0m \u001b[39mself\u001b[39m\u001b[39m.\u001b[39m_info \u001b[39m=\u001b[39m _create_info_struct(file, mode, samplerate, channels,\n\u001b[1;32m    657\u001b[0m                                  \u001b[39mformat\u001b[39m, subtype, endian)\n\u001b[0;32m--> 658\u001b[0m \u001b[39mself\u001b[39m\u001b[39m.\u001b[39m_file \u001b[39m=\u001b[39m \u001b[39mself\u001b[39;49m\u001b[39m.\u001b[39;49m_open(file, mode_int, closefd)\n\u001b[1;32m    659\u001b[0m \u001b[39mif\u001b[39;00m \u001b[39mset\u001b[39m(mode)\u001b[39m.\u001b[39missuperset(\u001b[39m'\u001b[39m\u001b[39mr+\u001b[39m\u001b[39m'\u001b[39m) \u001b[39mand\u001b[39;00m \u001b[39mself\u001b[39m\u001b[39m.\u001b[39mseekable():\n\u001b[1;32m    660\u001b[0m     \u001b[39m# Move write position to 0 (like in Python file objects)\u001b[39;00m\n\u001b[1;32m    661\u001b[0m     \u001b[39mself\u001b[39m\u001b[39m.\u001b[39mseek(\u001b[39m0\u001b[39m)\n",
      "File \u001b[0;32m~/Documents/UNI/TU_Master/EDS/VirtEnv_EDS/.conda/lib/python3.10/site-packages/soundfile.py:1216\u001b[0m, in \u001b[0;36mSoundFile._open\u001b[0;34m(self, file, mode_int, closefd)\u001b[0m\n\u001b[1;32m   1213\u001b[0m \u001b[39mif\u001b[39;00m file_ptr \u001b[39m==\u001b[39m _ffi\u001b[39m.\u001b[39mNULL:\n\u001b[1;32m   1214\u001b[0m     \u001b[39m# get the actual error code\u001b[39;00m\n\u001b[1;32m   1215\u001b[0m     err \u001b[39m=\u001b[39m _snd\u001b[39m.\u001b[39msf_error(file_ptr)\n\u001b[0;32m-> 1216\u001b[0m     \u001b[39mraise\u001b[39;00m LibsndfileError(err, prefix\u001b[39m=\u001b[39m\u001b[39m\"\u001b[39m\u001b[39mError opening \u001b[39m\u001b[39m{0!r}\u001b[39;00m\u001b[39m: \u001b[39m\u001b[39m\"\u001b[39m\u001b[39m.\u001b[39mformat(\u001b[39mself\u001b[39m\u001b[39m.\u001b[39mname))\n\u001b[1;32m   1217\u001b[0m \u001b[39mif\u001b[39;00m mode_int \u001b[39m==\u001b[39m _snd\u001b[39m.\u001b[39mSFM_WRITE:\n\u001b[1;32m   1218\u001b[0m     \u001b[39m# Due to a bug in libsndfile version <= 1.0.25, frames != 0\u001b[39;00m\n\u001b[1;32m   1219\u001b[0m     \u001b[39m# when opening a named pipe in SFM_WRITE mode.\u001b[39;00m\n\u001b[1;32m   1220\u001b[0m     \u001b[39m# See http://github.com/erikd/libsndfile/issues/77.\u001b[39;00m\n\u001b[1;32m   1221\u001b[0m     \u001b[39mself\u001b[39m\u001b[39m.\u001b[39m_info\u001b[39m.\u001b[39mframes \u001b[39m=\u001b[39m \u001b[39m0\u001b[39m\n",
      "\u001b[0;31mLibsndfileError\u001b[0m: Error opening './speech.wav': System error."
     ]
    }
   ],
   "source": [
    "# Readind and storing signal and sample rate\n",
    "data_1 = pf.io.read_audio('/Users/leaschwalb/Documents/UNI/TU_Master/EDS/VirtEnv_EDS/Materialien_HA/speech.wav')\n",
    "data_2 = pf.io.read_audio('/Users/leaschwalb/Documents/UNI/TU_Master/EDS/VirtEnv_EDS/Materialien_HA/impulse_response.wav')\n",
    "\n",
    "print(\"number of channels: \", data_1.cshape)\n",
    "print(\"number of channels: \", data_2.cshape)\n",
    "\n",
    "# Reducing stereo signals to first channel\n",
    "data_1 = data_1[0,:]\n",
    "\n",
    "# Normalization to an amplitude of 1: signal_norm = signal * np.max(signal) / 1 \n",
    "data_1 = pf.dsp.normalize(data_1)\n",
    "data_2 = pf.dsp.normalize(data_2)\n",
    "\n",
    "# Vector for plotting\n",
    "signal_1 = np.array(np.arange(0, data_1.n_samples, 1)) / data_1.sampling_rate\n",
    "signal_2 = np.array(np.arange(0, data_2.n_samples, 1)) / data_2.sampling_rate\n",
    "\n",
    "# Plotting\n",
    "plt.figure(figsize=(8,3))\n",
    "plt.plot(signal_1, data_1.time[0])\n",
    "plt.title(\"Speech Signal\")\n",
    "plt.xlabel(\"Time in s\") \n",
    "plt.ylabel(\"Amplitude\")\n",
    "plt.show()\n",
    "\n",
    "plt.figure(figsize=(8,3))\n",
    "plt.plot(signal_2, data_2.time[0])\n",
    "plt.title(\"Speech Signal\")\n",
    "plt.xlabel(\"Time in s\") \n",
    "plt.ylabel(\"Amplitude\")\n",
    "plt.show()\n",
    "\n"
   ]
  }
 ],
 "metadata": {
  "kernelspec": {
   "display_name": "Python 3",
   "language": "python",
   "name": "python3"
  },
  "language_info": {
   "codemirror_mode": {
    "name": "ipython",
    "version": 3
   },
   "file_extension": ".py",
   "mimetype": "text/x-python",
   "name": "python",
   "nbconvert_exporter": "python",
   "pygments_lexer": "ipython3",
   "version": "3.10.13"
  },
  "orig_nbformat": 4
 },
 "nbformat": 4,
 "nbformat_minor": 2
}
